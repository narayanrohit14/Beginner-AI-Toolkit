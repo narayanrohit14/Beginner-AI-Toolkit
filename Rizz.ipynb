{
 "cells": [
  {
   "cell_type": "markdown",
   "id": "e2f8d351",
   "metadata": {},
   "source": [
    "# Import and Set Up Data"
   ]
  },
  {
   "cell_type": "code",
   "execution_count": 21,
   "id": "f3c77eab",
   "metadata": {},
   "outputs": [],
   "source": [
    "import pandas as pd"
   ]
  },
  {
   "cell_type": "code",
   "execution_count": 22,
   "id": "35b0a0d8",
   "metadata": {},
   "outputs": [],
   "source": [
    "# Load your data (replace with your actual data loading)\n",
    "data = pd.read_csv('dating_success.csv')"
   ]
  },
  {
   "cell_type": "code",
   "execution_count": 23,
   "id": "9ad1d178",
   "metadata": {},
   "outputs": [],
   "source": [
    "# Define features (X) and target variable (y)\n",
    "X = data[['pickup_lines_used', 'hours_in_gym', 'showers', 'hours_touching_grass',\n",
    "          'study', 'mews']]\n",
    "y = data['dates_per_month']"
   ]
  },
  {
   "cell_type": "code",
   "execution_count": 24,
   "id": "b0bf7424",
   "metadata": {},
   "outputs": [],
   "source": [
    "# Split the data into training and testing sets\n",
    "X_train, X_test, y_train, y_test = train_test_split(X, y, test_size=0.2, random_state=42)"
   ]
  },
  {
   "cell_type": "markdown",
   "id": "0fa2f418",
   "metadata": {},
   "source": [
    "# Import, Train, and Predict with Model"
   ]
  },
  {
   "cell_type": "code",
   "execution_count": 25,
   "id": "7050456f",
   "metadata": {},
   "outputs": [],
   "source": [
    "# Create a linear regression model\n",
    "model = LinearRegression()"
   ]
  },
  {
   "cell_type": "code",
   "execution_count": 26,
   "id": "c96ea22b",
   "metadata": {},
   "outputs": [
    {
     "data": {
      "text/plain": [
       "LinearRegression()"
      ]
     },
     "execution_count": 26,
     "metadata": {},
     "output_type": "execute_result"
    }
   ],
   "source": [
    "# Fit the model to the training data\n",
    "model.fit(X_train, y_train)"
   ]
  },
  {
   "cell_type": "code",
   "execution_count": 28,
   "id": "e7ff978e",
   "metadata": {},
   "outputs": [
    {
     "name": "stdout",
     "output_type": "stream",
     "text": [
      "[3.06238575 2.47268829]\n"
     ]
    }
   ],
   "source": [
    "y_pred = model.predict([[6,3,1,2,1,0],[9,3,0,0,0,0]])\n",
    "print(y_pred)"
   ]
  },
  {
   "cell_type": "code",
   "execution_count": 31,
   "id": "d7de3d64",
   "metadata": {},
   "outputs": [
    {
     "name": "stdout",
     "output_type": "stream",
     "text": [
      "[3.56615905 3.13117969 2.98018529 3.12349023 3.03243003 2.87629959\n",
      " 3.13358584 3.3571253  2.9664105  2.69834319 3.18197213 3.17566759\n",
      " 3.58780574 3.56207822 3.04468058 2.4882097  3.51164748 2.79271515\n",
      " 3.68924674 3.3137636  2.73755668 3.21757148 2.82172159 2.66402145\n",
      " 3.09430135 3.0283492  3.62300483 3.10450746 3.24787882 2.84839382\n",
      " 3.45677878 2.85721044 3.2286118  2.79861709 2.56822641 3.37359142\n",
      " 3.13737691 3.56346771 2.81735005 3.46471805 2.59577598 3.70950394\n",
      " 2.97493736 2.9254559  3.27834213 2.84576985 2.76692025 3.33395437\n",
      " 2.57201748 3.22142992 3.49255739 3.08308316 3.16382675 3.29094981\n",
      " 2.78506564 2.80889057 2.49783629 2.77690303 3.24267635 3.61710194\n",
      " 3.0159639  3.0159639  2.58812647 3.62212749 2.76808736 2.85196156\n",
      " 3.31878915 2.71386555 2.6986339  2.79067782 2.69973363 2.89783438\n",
      " 3.33781187 2.90909804 3.19457982 3.18051527 3.07142018 2.98164216\n",
      " 3.354278   3.13977848 3.42547808 3.24431109 2.88621688 3.62686327\n",
      " 2.95351306 2.68712594 2.88475907 2.49666919 2.36622175 3.29467445\n",
      " 3.26566801 3.41637171 3.29386448 3.16025807 2.87098428 3.67022402\n",
      " 3.04977807 3.34539495 3.2083546  3.37096651]\n"
     ]
    }
   ],
   "source": [
    "# Make predictions on the test data\n",
    "y_pred = model.predict(X_test)\n",
    "print(y_pred)"
   ]
  },
  {
   "cell_type": "code",
   "execution_count": 32,
   "id": "a0fc69b5",
   "metadata": {},
   "outputs": [
    {
     "name": "stdout",
     "output_type": "stream",
     "text": [
      "Mean Squared Error: 2.1767100567446347\n",
      "R-squared: -0.013554692095657739\n"
     ]
    }
   ],
   "source": [
    "# Evaluate the model (optional)\n",
    "from sklearn.metrics import mean_squared_error, r2_score\n",
    "mse = mean_squared_error(y_test, y_pred)\n",
    "r2 = r2_score(y_test, y_pred)\n",
    "print(\"Mean Squared Error:\", mse)\n",
    "print(\"R-squared:\", r2)"
   ]
  },
  {
   "cell_type": "code",
   "execution_count": null,
   "id": "ff21ad8c",
   "metadata": {},
   "outputs": [],
   "source": []
  }
 ],
 "metadata": {
  "kernelspec": {
   "display_name": "Python 3",
   "language": "python",
   "name": "python3"
  },
  "language_info": {
   "codemirror_mode": {
    "name": "ipython",
    "version": 3
   },
   "file_extension": ".py",
   "mimetype": "text/x-python",
   "name": "python",
   "nbconvert_exporter": "python",
   "pygments_lexer": "ipython3",
   "version": "3.8.8"
  }
 },
 "nbformat": 4,
 "nbformat_minor": 5
}
